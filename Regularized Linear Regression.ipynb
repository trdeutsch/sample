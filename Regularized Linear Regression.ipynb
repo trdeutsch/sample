{
 "cells": [
  {
   "cell_type": "code",
   "execution_count": 1,
   "metadata": {},
   "outputs": [],
   "source": [
    "import pandas as pd\n",
    "import numpy as np\n",
    "import seaborn as sns"
   ]
  },
  {
   "cell_type": "code",
   "execution_count": 2,
   "metadata": {},
   "outputs": [],
   "source": [
    "x_train = np.array([[2104, 5, 1, 45], [1416, 3, 2, 40], [852, 2, 1, 35]])\n",
    "y_train = np.array([460, 232, 178])"
   ]
  },
  {
   "cell_type": "code",
   "execution_count": 3,
   "metadata": {},
   "outputs": [],
   "source": [
    "def reg_cost (w, b, x, y, lambda_):\n",
    "    m = x.shape[0]\n",
    "    n = x.shape[1]\n",
    "    cost = 0\n",
    "    reg_cost = 0\n",
    "    \n",
    "    for i in range(m):\n",
    "        y_predict = np.dot(w, x[i]) + b\n",
    "        cost += (y_predict - y[i]) ** 2\n",
    "    cost = cost / (2 * m)\n",
    "    \n",
    "    for j in range(n):\n",
    "        reg_cost += (w[j] ** 2)\n",
    "    reg_cost = (lambda_ / (2 * m)) * reg_cost\n",
    "    \n",
    "    total_cost = cost + reg_cost\n",
    "    \n",
    "    return total_cost"
   ]
  },
  {
   "cell_type": "code",
   "execution_count": 4,
   "metadata": {},
   "outputs": [
    {
     "data": {
      "text/plain": [
       "454.68116377308337"
      ]
     },
     "execution_count": 4,
     "metadata": {},
     "output_type": "execute_result"
    }
   ],
   "source": [
    "b_init = 785.1811367994083\n",
    "w_init = np.array([ 0.39133535, 18.75376741, -53.36032453, -26.42131618])\n",
    "lambda_ = 0.7\n",
    "reg_cost(w_init, b_init, x_train, y_train, lambda_)"
   ]
  },
  {
   "cell_type": "code",
   "execution_count": 5,
   "metadata": {},
   "outputs": [],
   "source": [
    "def reg_gardient_descent (w, b, x, y, lambda_, learning_rate):\n",
    "    m = x.shape[0]\n",
    "    n = x.shape[1]\n",
    "    dw = np.zeros((n,))\n",
    "    db = 0\n",
    "    \n",
    "    for i in range(m):\n",
    "        err = np.dot(w, x[i]) + b - y[i]\n",
    "        for j in range(n):\n",
    "            dw[j] = (dw[j] + err * x[i, j]) / m\n",
    "        db += err\n",
    "    db = db / m\n",
    "    \n",
    "    for j in range(n):\n",
    "        dw[j] = dw[j] + (lambda_ / m) * w[j]\n",
    "        \n",
    "    w = w - learning_rate * dw\n",
    "    b = b - learning_rate * db\n",
    "    \n",
    "    for i in range(m):\n",
    "        print(f\"prediction: {np.dot(x_train[i], w) + b:0.2f}, target value: {y_train[i]}\")"
   ]
  },
  {
   "cell_type": "code",
   "execution_count": 6,
   "metadata": {},
   "outputs": [
    {
     "name": "stdout",
     "output_type": "stream",
     "text": [
      "prediction: 460.08, target value: 460\n",
      "prediction: 232.13, target value: 232\n",
      "prediction: 178.14, target value: 178\n"
     ]
    }
   ],
   "source": [
    "b_init = 785.1811367994083\n",
    "w_init = np.array([ 0.39133535, 18.75376741, -53.36032453, -26.42131618])\n",
    "lambda_ = 0.7\n",
    "learning_rate = 0.001\n",
    "reg_gardient_descent(w_init, b_init, x_train, y_train, lambda_, learning_rate)"
   ]
  }
 ],
 "metadata": {
  "kernelspec": {
   "display_name": "base",
   "language": "python",
   "name": "python3"
  },
  "language_info": {
   "codemirror_mode": {
    "name": "ipython",
    "version": 3
   },
   "file_extension": ".py",
   "mimetype": "text/x-python",
   "name": "python",
   "nbconvert_exporter": "python",
   "pygments_lexer": "ipython3",
   "version": "3.10.9"
  },
  "orig_nbformat": 4
 },
 "nbformat": 4,
 "nbformat_minor": 2
}
