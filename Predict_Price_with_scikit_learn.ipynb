{
  "nbformat": 4,
  "nbformat_minor": 0,
  "metadata": {
    "colab": {
      "provenance": []
    },
    "kernelspec": {
      "name": "python3",
      "display_name": "Python 3"
    },
    "language_info": {
      "name": "python"
    }
  },
  "cells": [
    {
      "cell_type": "code",
      "source": [
        "import pandas as pd\n",
        "import numpy as np\n",
        "import seaborn as sns"
      ],
      "metadata": {
        "id": "rnVcPOEOj3K-"
      },
      "execution_count": 3,
      "outputs": []
    },
    {
      "cell_type": "code",
      "execution_count": 4,
      "metadata": {
        "id": "H0btoDIBjY0Y"
      },
      "outputs": [],
      "source": [
        "link = \"https://cf-courses-data.s3.us.cloud-object-storage.appdomain.cloud/IBMDeveloperSkillsNetwork-DA0101EN-SkillsNetwork/labs/FinalModule_Coursera/data/kc_house_data_NaN.csv\""
      ]
    },
    {
      "cell_type": "code",
      "source": [
        "df = pd.read_csv(link)"
      ],
      "metadata": {
        "id": "ToM21F-mkqxy"
      },
      "execution_count": 5,
      "outputs": []
    },
    {
      "cell_type": "code",
      "source": [
        "df.drop('id', axis = 1, inplace = True)\n",
        "df.drop('Unnamed: 0', axis = 1, inplace = True)\n",
        "#Xóa cột"
      ],
      "metadata": {
        "id": "pW5I28Y2mNyv"
      },
      "execution_count": 6,
      "outputs": []
    },
    {
      "cell_type": "code",
      "source": [
        "mean = df['bathrooms'].mean()\n",
        "df['bathrooms'].replace(np.nan, mean, inplace = True)\n",
        "#Thay missing value bằng mean"
      ],
      "metadata": {
        "id": "xaHxF6fqrL_e"
      },
      "execution_count": 7,
      "outputs": []
    },
    {
      "cell_type": "code",
      "source": [
        "mean = df['bedrooms'].mean()\n",
        "df['bedrooms'].replace(np.nan, mean, inplace = True)\n",
        "#Thay missing value bằng mean"
      ],
      "metadata": {
        "id": "kI2Qf9CFrees"
      },
      "execution_count": 8,
      "outputs": []
    },
    {
      "cell_type": "code",
      "source": [
        "df[['bedrooms', 'bathrooms', 'sqft_living', 'sqft_lot', 'floors', 'waterfront', 'condition', 'sqft_above', 'sqft_basement', 'yr_built', 'yr_renovated', 'price']].corr()\n",
        "#Kiểm tra mức liên hệ giữa các features và giá: bathrooms, sqft_living, sqft_above"
      ],
      "metadata": {
        "colab": {
          "base_uri": "https://localhost:8080/",
          "height": 426
        },
        "id": "_alyaN4nscoi",
        "outputId": "482fd4fb-8340-41ae-8a64-26afcefb9f08"
      },
      "execution_count": 9,
      "outputs": [
        {
          "output_type": "execute_result",
          "data": {
            "text/plain": [
              "               bedrooms  bathrooms  sqft_living  sqft_lot    floors  \\\n",
              "bedrooms       1.000000   0.514194     0.578077  0.032307  0.178022   \n",
              "bathrooms      0.514194   1.000000     0.755371  0.087929  0.502132   \n",
              "sqft_living    0.578077   0.755371     1.000000  0.172826  0.353949   \n",
              "sqft_lot       0.032307   0.087929     0.172826  1.000000 -0.005201   \n",
              "floors         0.178022   0.502132     0.353949 -0.005201  1.000000   \n",
              "waterfront    -0.006800   0.063744     0.103818  0.021604  0.023698   \n",
              "condition      0.026690  -0.126197    -0.058753 -0.008958 -0.263768   \n",
              "sqft_above     0.479286   0.686309     0.876597  0.183512  0.523885   \n",
              "sqft_basement  0.302856   0.283428     0.435043  0.015286 -0.245705   \n",
              "yr_built       0.155749   0.506913     0.318049  0.053080  0.489319   \n",
              "yr_renovated   0.018456   0.050560     0.055363  0.007644  0.006338   \n",
              "price          0.308797   0.525738     0.702035  0.089661  0.256794   \n",
              "\n",
              "               waterfront  condition  sqft_above  sqft_basement  yr_built  \\\n",
              "bedrooms        -0.006800   0.026690    0.479286       0.302856  0.155749   \n",
              "bathrooms        0.063744  -0.126197    0.686309       0.283428  0.506913   \n",
              "sqft_living      0.103818  -0.058753    0.876597       0.435043  0.318049   \n",
              "sqft_lot         0.021604  -0.008958    0.183512       0.015286  0.053080   \n",
              "floors           0.023698  -0.263768    0.523885      -0.245705  0.489319   \n",
              "waterfront       1.000000   0.016653    0.072075       0.080588 -0.026161   \n",
              "condition        0.016653   1.000000   -0.158214       0.174105 -0.361417   \n",
              "sqft_above       0.072075  -0.158214    1.000000      -0.051943  0.423898   \n",
              "sqft_basement    0.080588   0.174105   -0.051943       1.000000 -0.133124   \n",
              "yr_built        -0.026161  -0.361417    0.423898      -0.133124  1.000000   \n",
              "yr_renovated     0.092885  -0.060618    0.023285       0.071323 -0.224874   \n",
              "price            0.266369   0.036362    0.605567       0.323816  0.054012   \n",
              "\n",
              "               yr_renovated     price  \n",
              "bedrooms           0.018456  0.308797  \n",
              "bathrooms          0.050560  0.525738  \n",
              "sqft_living        0.055363  0.702035  \n",
              "sqft_lot           0.007644  0.089661  \n",
              "floors             0.006338  0.256794  \n",
              "waterfront         0.092885  0.266369  \n",
              "condition         -0.060618  0.036362  \n",
              "sqft_above         0.023285  0.605567  \n",
              "sqft_basement      0.071323  0.323816  \n",
              "yr_built          -0.224874  0.054012  \n",
              "yr_renovated       1.000000  0.126434  \n",
              "price              0.126434  1.000000  "
            ],
            "text/html": [
              "\n",
              "  <div id=\"df-fe8c9e50-de46-4fac-b0b7-e49a2fb096d7\">\n",
              "    <div class=\"colab-df-container\">\n",
              "      <div>\n",
              "<style scoped>\n",
              "    .dataframe tbody tr th:only-of-type {\n",
              "        vertical-align: middle;\n",
              "    }\n",
              "\n",
              "    .dataframe tbody tr th {\n",
              "        vertical-align: top;\n",
              "    }\n",
              "\n",
              "    .dataframe thead th {\n",
              "        text-align: right;\n",
              "    }\n",
              "</style>\n",
              "<table border=\"1\" class=\"dataframe\">\n",
              "  <thead>\n",
              "    <tr style=\"text-align: right;\">\n",
              "      <th></th>\n",
              "      <th>bedrooms</th>\n",
              "      <th>bathrooms</th>\n",
              "      <th>sqft_living</th>\n",
              "      <th>sqft_lot</th>\n",
              "      <th>floors</th>\n",
              "      <th>waterfront</th>\n",
              "      <th>condition</th>\n",
              "      <th>sqft_above</th>\n",
              "      <th>sqft_basement</th>\n",
              "      <th>yr_built</th>\n",
              "      <th>yr_renovated</th>\n",
              "      <th>price</th>\n",
              "    </tr>\n",
              "  </thead>\n",
              "  <tbody>\n",
              "    <tr>\n",
              "      <th>bedrooms</th>\n",
              "      <td>1.000000</td>\n",
              "      <td>0.514194</td>\n",
              "      <td>0.578077</td>\n",
              "      <td>0.032307</td>\n",
              "      <td>0.178022</td>\n",
              "      <td>-0.006800</td>\n",
              "      <td>0.026690</td>\n",
              "      <td>0.479286</td>\n",
              "      <td>0.302856</td>\n",
              "      <td>0.155749</td>\n",
              "      <td>0.018456</td>\n",
              "      <td>0.308797</td>\n",
              "    </tr>\n",
              "    <tr>\n",
              "      <th>bathrooms</th>\n",
              "      <td>0.514194</td>\n",
              "      <td>1.000000</td>\n",
              "      <td>0.755371</td>\n",
              "      <td>0.087929</td>\n",
              "      <td>0.502132</td>\n",
              "      <td>0.063744</td>\n",
              "      <td>-0.126197</td>\n",
              "      <td>0.686309</td>\n",
              "      <td>0.283428</td>\n",
              "      <td>0.506913</td>\n",
              "      <td>0.050560</td>\n",
              "      <td>0.525738</td>\n",
              "    </tr>\n",
              "    <tr>\n",
              "      <th>sqft_living</th>\n",
              "      <td>0.578077</td>\n",
              "      <td>0.755371</td>\n",
              "      <td>1.000000</td>\n",
              "      <td>0.172826</td>\n",
              "      <td>0.353949</td>\n",
              "      <td>0.103818</td>\n",
              "      <td>-0.058753</td>\n",
              "      <td>0.876597</td>\n",
              "      <td>0.435043</td>\n",
              "      <td>0.318049</td>\n",
              "      <td>0.055363</td>\n",
              "      <td>0.702035</td>\n",
              "    </tr>\n",
              "    <tr>\n",
              "      <th>sqft_lot</th>\n",
              "      <td>0.032307</td>\n",
              "      <td>0.087929</td>\n",
              "      <td>0.172826</td>\n",
              "      <td>1.000000</td>\n",
              "      <td>-0.005201</td>\n",
              "      <td>0.021604</td>\n",
              "      <td>-0.008958</td>\n",
              "      <td>0.183512</td>\n",
              "      <td>0.015286</td>\n",
              "      <td>0.053080</td>\n",
              "      <td>0.007644</td>\n",
              "      <td>0.089661</td>\n",
              "    </tr>\n",
              "    <tr>\n",
              "      <th>floors</th>\n",
              "      <td>0.178022</td>\n",
              "      <td>0.502132</td>\n",
              "      <td>0.353949</td>\n",
              "      <td>-0.005201</td>\n",
              "      <td>1.000000</td>\n",
              "      <td>0.023698</td>\n",
              "      <td>-0.263768</td>\n",
              "      <td>0.523885</td>\n",
              "      <td>-0.245705</td>\n",
              "      <td>0.489319</td>\n",
              "      <td>0.006338</td>\n",
              "      <td>0.256794</td>\n",
              "    </tr>\n",
              "    <tr>\n",
              "      <th>waterfront</th>\n",
              "      <td>-0.006800</td>\n",
              "      <td>0.063744</td>\n",
              "      <td>0.103818</td>\n",
              "      <td>0.021604</td>\n",
              "      <td>0.023698</td>\n",
              "      <td>1.000000</td>\n",
              "      <td>0.016653</td>\n",
              "      <td>0.072075</td>\n",
              "      <td>0.080588</td>\n",
              "      <td>-0.026161</td>\n",
              "      <td>0.092885</td>\n",
              "      <td>0.266369</td>\n",
              "    </tr>\n",
              "    <tr>\n",
              "      <th>condition</th>\n",
              "      <td>0.026690</td>\n",
              "      <td>-0.126197</td>\n",
              "      <td>-0.058753</td>\n",
              "      <td>-0.008958</td>\n",
              "      <td>-0.263768</td>\n",
              "      <td>0.016653</td>\n",
              "      <td>1.000000</td>\n",
              "      <td>-0.158214</td>\n",
              "      <td>0.174105</td>\n",
              "      <td>-0.361417</td>\n",
              "      <td>-0.060618</td>\n",
              "      <td>0.036362</td>\n",
              "    </tr>\n",
              "    <tr>\n",
              "      <th>sqft_above</th>\n",
              "      <td>0.479286</td>\n",
              "      <td>0.686309</td>\n",
              "      <td>0.876597</td>\n",
              "      <td>0.183512</td>\n",
              "      <td>0.523885</td>\n",
              "      <td>0.072075</td>\n",
              "      <td>-0.158214</td>\n",
              "      <td>1.000000</td>\n",
              "      <td>-0.051943</td>\n",
              "      <td>0.423898</td>\n",
              "      <td>0.023285</td>\n",
              "      <td>0.605567</td>\n",
              "    </tr>\n",
              "    <tr>\n",
              "      <th>sqft_basement</th>\n",
              "      <td>0.302856</td>\n",
              "      <td>0.283428</td>\n",
              "      <td>0.435043</td>\n",
              "      <td>0.015286</td>\n",
              "      <td>-0.245705</td>\n",
              "      <td>0.080588</td>\n",
              "      <td>0.174105</td>\n",
              "      <td>-0.051943</td>\n",
              "      <td>1.000000</td>\n",
              "      <td>-0.133124</td>\n",
              "      <td>0.071323</td>\n",
              "      <td>0.323816</td>\n",
              "    </tr>\n",
              "    <tr>\n",
              "      <th>yr_built</th>\n",
              "      <td>0.155749</td>\n",
              "      <td>0.506913</td>\n",
              "      <td>0.318049</td>\n",
              "      <td>0.053080</td>\n",
              "      <td>0.489319</td>\n",
              "      <td>-0.026161</td>\n",
              "      <td>-0.361417</td>\n",
              "      <td>0.423898</td>\n",
              "      <td>-0.133124</td>\n",
              "      <td>1.000000</td>\n",
              "      <td>-0.224874</td>\n",
              "      <td>0.054012</td>\n",
              "    </tr>\n",
              "    <tr>\n",
              "      <th>yr_renovated</th>\n",
              "      <td>0.018456</td>\n",
              "      <td>0.050560</td>\n",
              "      <td>0.055363</td>\n",
              "      <td>0.007644</td>\n",
              "      <td>0.006338</td>\n",
              "      <td>0.092885</td>\n",
              "      <td>-0.060618</td>\n",
              "      <td>0.023285</td>\n",
              "      <td>0.071323</td>\n",
              "      <td>-0.224874</td>\n",
              "      <td>1.000000</td>\n",
              "      <td>0.126434</td>\n",
              "    </tr>\n",
              "    <tr>\n",
              "      <th>price</th>\n",
              "      <td>0.308797</td>\n",
              "      <td>0.525738</td>\n",
              "      <td>0.702035</td>\n",
              "      <td>0.089661</td>\n",
              "      <td>0.256794</td>\n",
              "      <td>0.266369</td>\n",
              "      <td>0.036362</td>\n",
              "      <td>0.605567</td>\n",
              "      <td>0.323816</td>\n",
              "      <td>0.054012</td>\n",
              "      <td>0.126434</td>\n",
              "      <td>1.000000</td>\n",
              "    </tr>\n",
              "  </tbody>\n",
              "</table>\n",
              "</div>\n",
              "      <button class=\"colab-df-convert\" onclick=\"convertToInteractive('df-fe8c9e50-de46-4fac-b0b7-e49a2fb096d7')\"\n",
              "              title=\"Convert this dataframe to an interactive table.\"\n",
              "              style=\"display:none;\">\n",
              "        \n",
              "  <svg xmlns=\"http://www.w3.org/2000/svg\" height=\"24px\"viewBox=\"0 0 24 24\"\n",
              "       width=\"24px\">\n",
              "    <path d=\"M0 0h24v24H0V0z\" fill=\"none\"/>\n",
              "    <path d=\"M18.56 5.44l.94 2.06.94-2.06 2.06-.94-2.06-.94-.94-2.06-.94 2.06-2.06.94zm-11 1L8.5 8.5l.94-2.06 2.06-.94-2.06-.94L8.5 2.5l-.94 2.06-2.06.94zm10 10l.94 2.06.94-2.06 2.06-.94-2.06-.94-.94-2.06-.94 2.06-2.06.94z\"/><path d=\"M17.41 7.96l-1.37-1.37c-.4-.4-.92-.59-1.43-.59-.52 0-1.04.2-1.43.59L10.3 9.45l-7.72 7.72c-.78.78-.78 2.05 0 2.83L4 21.41c.39.39.9.59 1.41.59.51 0 1.02-.2 1.41-.59l7.78-7.78 2.81-2.81c.8-.78.8-2.07 0-2.86zM5.41 20L4 18.59l7.72-7.72 1.47 1.35L5.41 20z\"/>\n",
              "  </svg>\n",
              "      </button>\n",
              "      \n",
              "  <style>\n",
              "    .colab-df-container {\n",
              "      display:flex;\n",
              "      flex-wrap:wrap;\n",
              "      gap: 12px;\n",
              "    }\n",
              "\n",
              "    .colab-df-convert {\n",
              "      background-color: #E8F0FE;\n",
              "      border: none;\n",
              "      border-radius: 50%;\n",
              "      cursor: pointer;\n",
              "      display: none;\n",
              "      fill: #1967D2;\n",
              "      height: 32px;\n",
              "      padding: 0 0 0 0;\n",
              "      width: 32px;\n",
              "    }\n",
              "\n",
              "    .colab-df-convert:hover {\n",
              "      background-color: #E2EBFA;\n",
              "      box-shadow: 0px 1px 2px rgba(60, 64, 67, 0.3), 0px 1px 3px 1px rgba(60, 64, 67, 0.15);\n",
              "      fill: #174EA6;\n",
              "    }\n",
              "\n",
              "    [theme=dark] .colab-df-convert {\n",
              "      background-color: #3B4455;\n",
              "      fill: #D2E3FC;\n",
              "    }\n",
              "\n",
              "    [theme=dark] .colab-df-convert:hover {\n",
              "      background-color: #434B5C;\n",
              "      box-shadow: 0px 1px 3px 1px rgba(0, 0, 0, 0.15);\n",
              "      filter: drop-shadow(0px 1px 2px rgba(0, 0, 0, 0.3));\n",
              "      fill: #FFFFFF;\n",
              "    }\n",
              "  </style>\n",
              "\n",
              "      <script>\n",
              "        const buttonEl =\n",
              "          document.querySelector('#df-fe8c9e50-de46-4fac-b0b7-e49a2fb096d7 button.colab-df-convert');\n",
              "        buttonEl.style.display =\n",
              "          google.colab.kernel.accessAllowed ? 'block' : 'none';\n",
              "\n",
              "        async function convertToInteractive(key) {\n",
              "          const element = document.querySelector('#df-fe8c9e50-de46-4fac-b0b7-e49a2fb096d7');\n",
              "          const dataTable =\n",
              "            await google.colab.kernel.invokeFunction('convertToInteractive',\n",
              "                                                     [key], {});\n",
              "          if (!dataTable) return;\n",
              "\n",
              "          const docLinkHtml = 'Like what you see? Visit the ' +\n",
              "            '<a target=\"_blank\" href=https://colab.research.google.com/notebooks/data_table.ipynb>data table notebook</a>'\n",
              "            + ' to learn more about interactive tables.';\n",
              "          element.innerHTML = '';\n",
              "          dataTable['output_type'] = 'display_data';\n",
              "          await google.colab.output.renderOutput(dataTable, element);\n",
              "          const docLink = document.createElement('div');\n",
              "          docLink.innerHTML = docLinkHtml;\n",
              "          element.appendChild(docLink);\n",
              "        }\n",
              "      </script>\n",
              "    </div>\n",
              "  </div>\n",
              "  "
            ]
          },
          "metadata": {},
          "execution_count": 9
        }
      ]
    },
    {
      "cell_type": "code",
      "source": [
        "from sklearn.linear_model import LinearRegression\n",
        "from sklearn.metrics import mean_squared_error\n",
        "lr = LinearRegression()\n",
        "lr.fit(df[['bathrooms']], df[['price']])\n",
        "Rsquare_bathrooms = lr.score(df[['bathrooms']], df[['price']])\n",
        "Yhat_bathrooms = lr.predict(df[['bathrooms']])\n",
        "MSE_bathrooms = mean_squared_error(df[['price']], Yhat_bathrooms)\n",
        "#Kiểm tra hệ số R^2, MSE và giá trị dự đoán khi sử dụng mô hình hồi quy đơn\n",
        "print(\"R^2 is: \", Rsquare_bathrooms)\n",
        "print(\"Yhat is: \", Yhat_bathrooms)\n",
        "print(\"MSE is: \", MSE_bathrooms)"
      ],
      "metadata": {
        "colab": {
          "base_uri": "https://localhost:8080/"
        },
        "id": "Cjx3ZIyJtjWU",
        "outputId": "3d5fccda-3a31-4a1f-d21e-53a29753102c"
      },
      "execution_count": 10,
      "outputs": [
        {
          "output_type": "stream",
          "name": "stdout",
          "text": [
            "R^2 is:  0.27639993060314383\n",
            "Yhat is:  [[259981.40373925]\n",
            " [573795.19760539]\n",
            " [259981.40373925]\n",
            " ...\n",
            " [197218.64496602]\n",
            " [636557.95637862]\n",
            " [197218.64496602]]\n",
            "MSE is:  97524025867.46486\n"
          ]
        }
      ]
    },
    {
      "cell_type": "code",
      "source": [
        "lr.fit(df[['sqft_living']], df[['price']])\n",
        "Rsquare_sqft_living = lr.score(df[['sqft_living']], df[['price']])\n",
        "Yhat_sqft_living = lr.predict(df[['sqft_living']])\n",
        "MSE_sqft_living = mean_squared_error(df[['price']], Yhat_sqft_living)\n",
        "#Kiểm tra hệ số R^2, MSE và giá trị dự đoán khi sử dụng mô hình hồi quy đơn\n",
        "print(\"R^2 is: \", Rsquare_sqft_living)\n",
        "print(\"Yhat is: \", Yhat_sqft_living)\n",
        "print(\"MSE is: \", MSE_sqft_living)"
      ],
      "metadata": {
        "colab": {
          "base_uri": "https://localhost:8080/"
        },
        "id": "3mSg08tpvQj5",
        "outputId": "181563a2-1609-43cf-df41-3ca583440f91"
      },
      "execution_count": 11,
      "outputs": [
        {
          "output_type": "stream",
          "name": "stdout",
          "text": [
            "R^2 is:  0.4928532179037931\n",
            "Yhat is:  [[287555.06702451]\n",
            " [677621.82640197]\n",
            " [172499.40418656]\n",
            " ...\n",
            " [242655.29616092]\n",
            " [405416.96554144]\n",
            " [242655.29616092]]\n",
            "MSE is:  68351286833.039825\n"
          ]
        }
      ]
    },
    {
      "cell_type": "code",
      "source": [
        "lr.fit(df[['sqft_above']], df[['price']])\n",
        "Rsquare_sqft_above = lr.score(df[['sqft_above']], df[['price']])\n",
        "Yhat_sqft_above = lr.predict(df[['sqft_above']])\n",
        "MSE_sqft_above = mean_squared_error(df[['price']], Yhat_sqft_above)\n",
        "#Kiểm tra hệ số R^2, MSE và giá trị dự đoán khi sử dụng mô hình hồi quy đơn\n",
        "print(\"R^2 is: \", Rsquare_sqft_above)\n",
        "print(\"Yhat is: \", Yhat_sqft_above)\n",
        "print(\"MSE is: \", MSE_sqft_above)"
      ],
      "metadata": {
        "colab": {
          "base_uri": "https://localhost:8080/"
        },
        "id": "m9nvNJ2xw2Hc",
        "outputId": "1ea0b8e7-f90c-4246-df56-1178a13406f0"
      },
      "execution_count": 12,
      "outputs": [
        {
          "output_type": "stream",
          "name": "stdout",
          "text": [
            "R^2 is:  0.36671175283827917\n",
            "Yhat is:  [[376751.55360603]\n",
            " [642540.0094903 ]\n",
            " [266677.54662366]\n",
            " ...\n",
            " [333795.84356413]\n",
            " [489510.29246602]\n",
            " [333795.84356413]]\n",
            "MSE is:  85352146869.25163\n"
          ]
        }
      ]
    },
    {
      "cell_type": "code",
      "source": [
        "ax1 = sns.distplot(df[['price']], hist = False, color = 'r', label = 'Actual Value')\n",
        "sns.distplot(Yhat_bathrooms, hist = False, color = 'b', label = 'Fitted Value', ax = ax1)\n",
        "#Vẽ biểu đồ phân bố"
      ],
      "metadata": {
        "colab": {
          "base_uri": "https://localhost:8080/",
          "height": 862
        },
        "id": "xvpjT0WSxUvj",
        "outputId": "6a9976f5-9cff-4f60-ec98-eb72b0b01333"
      },
      "execution_count": 13,
      "outputs": [
        {
          "output_type": "stream",
          "name": "stderr",
          "text": [
            "<ipython-input-13-21c6ebae17eb>:1: UserWarning: \n",
            "\n",
            "`distplot` is a deprecated function and will be removed in seaborn v0.14.0.\n",
            "\n",
            "Please adapt your code to use either `displot` (a figure-level function with\n",
            "similar flexibility) or `kdeplot` (an axes-level function for kernel density plots).\n",
            "\n",
            "For a guide to updating your code to use the new functions, please see\n",
            "https://gist.github.com/mwaskom/de44147ed2974457ad6372750bbe5751\n",
            "\n",
            "  ax1 = sns.distplot(df[['price']], hist = False, color = 'r', label = 'Actual Value')\n",
            "<ipython-input-13-21c6ebae17eb>:2: UserWarning: \n",
            "\n",
            "`distplot` is a deprecated function and will be removed in seaborn v0.14.0.\n",
            "\n",
            "Please adapt your code to use either `displot` (a figure-level function with\n",
            "similar flexibility) or `kdeplot` (an axes-level function for kernel density plots).\n",
            "\n",
            "For a guide to updating your code to use the new functions, please see\n",
            "https://gist.github.com/mwaskom/de44147ed2974457ad6372750bbe5751\n",
            "\n",
            "  sns.distplot(Yhat_bathrooms, hist = False, color = 'b', label = 'Fitted Value', ax = ax1)\n"
          ]
        },
        {
          "output_type": "execute_result",
          "data": {
            "text/plain": [
              "<Axes: ylabel='Density'>"
            ]
          },
          "metadata": {},
          "execution_count": 13
        },
        {
          "output_type": "display_data",
          "data": {
            "text/plain": [
              "<Figure size 640x480 with 1 Axes>"
            ],
            "image/png": "[encoded data removed]"
          },
          "metadata": {}
        }
      ]
    },
    {
      "cell_type": "code",
      "source": [
        "ax2 = sns.distplot(df[['price']], hist = False, color = 'r', label = 'Actual Value')\n",
        "sns.distplot(Yhat_sqft_living, hist = False, color = 'b', label = 'Fitted Value', ax = ax2)\n",
        "#Vẽ biểu đồ phân bố"
      ],
      "metadata": {
        "colab": {
          "base_uri": "https://localhost:8080/",
          "height": 862
        },
        "id": "Z4XiBYbm3dio",
        "outputId": "b4dd8be8-f6e5-4d55-96d7-3f1e7c27358f"
      },
      "execution_count": 14,
      "outputs": [
        {
          "output_type": "stream",
          "name": "stderr",
          "text": [
            "<ipython-input-14-c793763d21e4>:1: UserWarning: \n",
            "\n",
            "`distplot` is a deprecated function and will be removed in seaborn v0.14.0.\n",
            "\n",
            "Please adapt your code to use either `displot` (a figure-level function with\n",
            "similar flexibility) or `kdeplot` (an axes-level function for kernel density plots).\n",
            "\n",
            "For a guide to updating your code to use the new functions, please see\n",
            "https://gist.github.com/mwaskom/de44147ed2974457ad6372750bbe5751\n",
            "\n",
            "  ax2 = sns.distplot(df[['price']], hist = False, color = 'r', label = 'Actual Value')\n",
            "<ipython-input-14-c793763d21e4>:2: UserWarning: \n",
            "\n",
            "`distplot` is a deprecated function and will be removed in seaborn v0.14.0.\n",
            "\n",
            "Please adapt your code to use either `displot` (a figure-level function with\n",
            "similar flexibility) or `kdeplot` (an axes-level function for kernel density plots).\n",
            "\n",
            "For a guide to updating your code to use the new functions, please see\n",
            "https://gist.github.com/mwaskom/de44147ed2974457ad6372750bbe5751\n",
            "\n",
            "  sns.distplot(Yhat_sqft_living, hist = False, color = 'b', label = 'Fitted Value', ax = ax2)\n"
          ]
        },
        {
          "output_type": "execute_result",
          "data": {
            "text/plain": [
              "<Axes: ylabel='Density'>"
            ]
          },
          "metadata": {},
          "execution_count": 14
        },
        {
          "output_type": "display_data",
          "data": {
            "text/plain": [
              "<Figure size 640x480 with 1 Axes>"
            ],
            "image/png": "[encoded data removed]"
          },
          "metadata": {}
        }
      ]
    },
    {
      "cell_type": "code",
      "source": [
        "ax3 = sns.distplot(df[['price']], hist = False, color = 'r', label = 'Actual Value')\n",
        "sns.distplot(Yhat_sqft_above, hist = False, color = 'b', label = 'Fitted Value', ax = ax3)\n",
        "#Vẽ biểu đồ phân bố"
      ],
      "metadata": {
        "colab": {
          "base_uri": "https://localhost:8080/",
          "height": 862
        },
        "id": "MwOvUTl343qH",
        "outputId": "c1fc372f-a48b-4dd7-fa85-8bd905646a31"
      },
      "execution_count": 15,
      "outputs": [
        {
          "output_type": "stream",
          "name": "stderr",
          "text": [
            "<ipython-input-15-47eaee730c55>:1: UserWarning: \n",
            "\n",
            "`distplot` is a deprecated function and will be removed in seaborn v0.14.0.\n",
            "\n",
            "Please adapt your code to use either `displot` (a figure-level function with\n",
            "similar flexibility) or `kdeplot` (an axes-level function for kernel density plots).\n",
            "\n",
            "For a guide to updating your code to use the new functions, please see\n",
            "https://gist.github.com/mwaskom/de44147ed2974457ad6372750bbe5751\n",
            "\n",
            "  ax3 = sns.distplot(df[['price']], hist = False, color = 'r', label = 'Actual Value')\n",
            "<ipython-input-15-47eaee730c55>:2: UserWarning: \n",
            "\n",
            "`distplot` is a deprecated function and will be removed in seaborn v0.14.0.\n",
            "\n",
            "Please adapt your code to use either `displot` (a figure-level function with\n",
            "similar flexibility) or `kdeplot` (an axes-level function for kernel density plots).\n",
            "\n",
            "For a guide to updating your code to use the new functions, please see\n",
            "https://gist.github.com/mwaskom/de44147ed2974457ad6372750bbe5751\n",
            "\n",
            "  sns.distplot(Yhat_sqft_above, hist = False, color = 'b', label = 'Fitted Value', ax = ax3)\n"
          ]
        },
        {
          "output_type": "execute_result",
          "data": {
            "text/plain": [
              "<Axes: ylabel='Density'>"
            ]
          },
          "metadata": {},
          "execution_count": 15
        },
        {
          "output_type": "display_data",
          "data": {
            "text/plain": [
              "<Figure size 640x480 with 1 Axes>"
            ],
            "image/png": "[encoded data removed]"
          },
          "metadata": {}
        }
      ]
    },
    {
      "cell_type": "code",
      "source": [
        "from sklearn.preprocessing import StandardScaler\n",
        "from sklearn.preprocessing import PolynomialFeatures\n",
        "from sklearn.linear_model import LinearRegression\n",
        "from sklearn.pipeline import Pipeline\n",
        "from sklearn.model_selection import cross_val_score\n",
        "from sklearn.model_selection import cross_val_predict\n",
        "order = [2,3,4,5,6,7,8,9,10]\n",
        "Rsquare = []\n",
        "for n in order:\n",
        "  Input = [('scale', StandardScaler()), ('features', PolynomialFeatures(n)), ('regression', LinearRegression())]\n",
        "  pipe = Pipeline(Input)\n",
        "  score = cross_val_score(pipe, df[['bathrooms']], df[['price']], cv = 3)\n",
        "  Rsquare.append(score)\n",
        "Rsquare\n",
        "#Tìm bậc đa thức phù hợp bằng R^2"
      ],
      "metadata": {
        "colab": {
          "base_uri": "https://localhost:8080/"
        },
        "id": "6GJd6p9X5Rin",
        "outputId": "87265267-768b-4296-ca63-4581d2f5c274"
      },
      "execution_count": 16,
      "outputs": [
        {
          "output_type": "execute_result",
          "data": {
            "text/plain": [
              "[array([0.33674044, 0.33723062, 0.32782227]),\n",
              " array([0.3368221 , 0.33473611, 0.32776317]),\n",
              " array([0.33701564, 0.20038925, 0.32592861]),\n",
              " array([0.33476042, 0.21770601, 0.33187942]),\n",
              " array([ 0.33382611, -0.86166504,  0.33188921]),\n",
              " array([ 0.33303186, -7.33591054,  0.32479358]),\n",
              " array([  0.33386839, -14.18256748,   0.31755193]),\n",
              " array([ 0.33241216, -7.84655361,  0.316935  ]),\n",
              " array([  0.33548772, -24.49558826,   0.30783822])]"
            ]
          },
          "metadata": {},
          "execution_count": 16
        }
      ]
    },
    {
      "cell_type": "code",
      "source": [
        "from sklearn.preprocessing import StandardScaler\n",
        "from sklearn.preprocessing import PolynomialFeatures\n",
        "from sklearn.linear_model import LinearRegression\n",
        "from sklearn.pipeline import Pipeline\n",
        "from sklearn.model_selection import cross_val_predict\n",
        "Input = [('scale', StandardScaler()), ('features', PolynomialFeatures(2)), ('regression', LinearRegression())]\n",
        "pipe = Pipeline(Input)\n",
        "predict = cross_val_predict(pipe, df[['bathrooms']], df[['price']], cv = 3)\n",
        "predict\n",
        "#Tính biến dự đoán"
      ],
      "metadata": {
        "colab": {
          "base_uri": "https://localhost:8080/"
        },
        "id": "F_WIbQfr-I-K",
        "outputId": "fe045225-cf0f-4771-9301-9be151a15003"
      },
      "execution_count": 17,
      "outputs": [
        {
          "output_type": "execute_result",
          "data": {
            "text/plain": [
              "array([[354861.13247486],\n",
              "       [517584.48814378],\n",
              "       [354861.13247486],\n",
              "       ...,\n",
              "       [361084.44520541],\n",
              "       [590691.59800766],\n",
              "       [361084.44520541]])"
            ]
          },
          "metadata": {},
          "execution_count": 17
        }
      ]
    },
    {
      "cell_type": "code",
      "source": [
        "from sklearn.metrics import mean_squared_error\n",
        "MSE_bathrooms = mean_squared_error(df[['price']], predict)\n",
        "MSE_bathrooms\n",
        "#Tính MSE"
      ],
      "metadata": {
        "colab": {
          "base_uri": "https://localhost:8080/"
        },
        "id": "JnTySzRKGSWx",
        "outputId": "a61988b0-3e4c-45a6-f518-da2d85ab4314"
      },
      "execution_count": 19,
      "outputs": [
        {
          "output_type": "execute_result",
          "data": {
            "text/plain": [
              "89683785664.83408"
            ]
          },
          "metadata": {},
          "execution_count": 19
        }
      ]
    },
    {
      "cell_type": "code",
      "source": [
        "ax1 = sns.distplot(df[['price']], hist = False, color = 'r', label = 'Actual Value')\n",
        "sns.distplot(predict, hist = False, color = 'b', label = 'Fitted Value', ax = ax1)\n",
        "#Vẽ biểu đồ phân bố của đa thức bậc 2"
      ],
      "metadata": {
        "colab": {
          "base_uri": "https://localhost:8080/",
          "height": 862
        },
        "id": "cpCzXA_IH9c3",
        "outputId": "645aaac8-1243-4521-c012-547e887cd73a"
      },
      "execution_count": 20,
      "outputs": [
        {
          "output_type": "stream",
          "name": "stderr",
          "text": [
            "<ipython-input-20-c72a0e3ea948>:1: UserWarning: \n",
            "\n",
            "`distplot` is a deprecated function and will be removed in seaborn v0.14.0.\n",
            "\n",
            "Please adapt your code to use either `displot` (a figure-level function with\n",
            "similar flexibility) or `kdeplot` (an axes-level function for kernel density plots).\n",
            "\n",
            "For a guide to updating your code to use the new functions, please see\n",
            "https://gist.github.com/mwaskom/de44147ed2974457ad6372750bbe5751\n",
            "\n",
            "  ax1 = sns.distplot(df[['price']], hist = False, color = 'r', label = 'Actual Value')\n",
            "<ipython-input-20-c72a0e3ea948>:2: UserWarning: \n",
            "\n",
            "`distplot` is a deprecated function and will be removed in seaborn v0.14.0.\n",
            "\n",
            "Please adapt your code to use either `displot` (a figure-level function with\n",
            "similar flexibility) or `kdeplot` (an axes-level function for kernel density plots).\n",
            "\n",
            "For a guide to updating your code to use the new functions, please see\n",
            "https://gist.github.com/mwaskom/de44147ed2974457ad6372750bbe5751\n",
            "\n",
            "  sns.distplot(predict, hist = False, color = 'b', label = 'Fitted Value', ax = ax1)\n"
          ]
        },
        {
          "output_type": "execute_result",
          "data": {
            "text/plain": [
              "<Axes: ylabel='Density'>"
            ]
          },
          "metadata": {},
          "execution_count": 20
        },
        {
          "output_type": "display_data",
          "data": {
            "text/plain": [
              "<Figure size 640x480 with 1 Axes>"
            ],
            "image/png": "[encoded data removed]"
          },
          "metadata": {}
        }
      ]
    },
    {
      "cell_type": "code",
      "source": [
        "from sklearn.preprocessing import StandardScaler\n",
        "from sklearn.preprocessing import PolynomialFeatures\n",
        "from sklearn.linear_model import LinearRegression\n",
        "from sklearn.pipeline import Pipeline\n",
        "from sklearn.model_selection import cross_val_score\n",
        "from sklearn.model_selection import cross_val_predict\n",
        "order = [2,3,4,5,6,7,8,9,10]\n",
        "Rsquare = []\n",
        "for n in order:\n",
        "  Input = [('scale', StandardScaler()), ('features', PolynomialFeatures(n)), ('regression', LinearRegression())]\n",
        "  pipe = Pipeline(Input)\n",
        "  score = cross_val_score(pipe, df[['sqft_living']], df[['price']], cv = 3)\n",
        "  Rsquare.append(score)\n",
        "Rsquare\n",
        "#Tìm bậc đa thức phù hợp bằng R^2"
      ],
      "metadata": {
        "colab": {
          "base_uri": "https://localhost:8080/"
        },
        "id": "toLfwcheKzqk",
        "outputId": "e4f41544-77c8-4691-96c2-038b5aae4c08"
      },
      "execution_count": 21,
      "outputs": [
        {
          "output_type": "execute_result",
          "data": {
            "text/plain": [
              "[array([0.54515693, 0.50398074, 0.52369462]),\n",
              " array([0.54616147, 0.49859976, 0.52551888]),\n",
              " array([0.55084778, 0.2969378 , 0.51504074]),\n",
              " array([ 0.55497267, -2.72879541,  0.51187205]),\n",
              " array([ 0.54975374, -0.2629678 ,  0.52355492]),\n",
              " array([  0.5501109 , -18.83432283,   0.52341868]),\n",
              " array([ 0.54938453, -5.71557678,  0.52424061]),\n",
              " array([ 5.49205157e-01, -1.70072149e+03,  5.23830119e-01]),\n",
              " array([ 5.49281862e-01, -7.65225283e+03,  5.23888532e-01])]"
            ]
          },
          "metadata": {},
          "execution_count": 21
        }
      ]
    },
    {
      "cell_type": "code",
      "source": [
        "Input = [('scale', StandardScaler()), ('features', PolynomialFeatures(degree = 3)), ('regression', LinearRegression())]\n",
        "pipe = Pipeline(Input)\n",
        "predict2 = cross_val_predict(pipe, df[['sqft_living']], df[['price']], cv = 3)\n",
        "predict2\n",
        "#Tính biến dự đoán"
      ],
      "metadata": {
        "colab": {
          "base_uri": "https://localhost:8080/"
        },
        "id": "j_gsWQ_mMQ-p",
        "outputId": "ee0518ce-d3bd-4683-ece9-d7a89b84e66b"
      },
      "execution_count": 22,
      "outputs": [
        {
          "output_type": "execute_result",
          "data": {
            "text/plain": [
              "array([[344657.04064495],\n",
              "       [616103.23701407],\n",
              "       [316352.5063575 ],\n",
              "       ...,\n",
              "       [332510.49849357],\n",
              "       [398262.92908515],\n",
              "       [332510.49849357]])"
            ]
          },
          "metadata": {},
          "execution_count": 22
        }
      ]
    },
    {
      "cell_type": "code",
      "source": [
        "MSE_sqft_living = mean_squared_error(df[['price']], predict2)\n",
        "MSE_sqft_living\n",
        "#Tính MSE"
      ],
      "metadata": {
        "colab": {
          "base_uri": "https://localhost:8080/"
        },
        "id": "7WMxMEPsGzco",
        "outputId": "b8a4207e-e28d-40c6-dcd6-4fa51875807f"
      },
      "execution_count": 23,
      "outputs": [
        {
          "output_type": "execute_result",
          "data": {
            "text/plain": [
              "64099384012.21407"
            ]
          },
          "metadata": {},
          "execution_count": 23
        }
      ]
    },
    {
      "cell_type": "code",
      "source": [
        "ax1 = sns.distplot(df[['price']], hist = False, color = 'r', label = 'Actual Value')\n",
        "sns.distplot(predict2, hist = False, color = 'b', label = 'Fitted Value', ax = ax1)\n",
        "#Vẽ biểu đồ phân bố của đa thức bậc 3"
      ],
      "metadata": {
        "colab": {
          "base_uri": "https://localhost:8080/",
          "height": 862
        },
        "id": "4a5sGIYzMs7K",
        "outputId": "0a49953d-bdad-4875-8d86-a39f8a8d48d3"
      },
      "execution_count": 24,
      "outputs": [
        {
          "output_type": "stream",
          "name": "stderr",
          "text": [
            "<ipython-input-24-3ea8b8699548>:1: UserWarning: \n",
            "\n",
            "`distplot` is a deprecated function and will be removed in seaborn v0.14.0.\n",
            "\n",
            "Please adapt your code to use either `displot` (a figure-level function with\n",
            "similar flexibility) or `kdeplot` (an axes-level function for kernel density plots).\n",
            "\n",
            "For a guide to updating your code to use the new functions, please see\n",
            "https://gist.github.com/mwaskom/de44147ed2974457ad6372750bbe5751\n",
            "\n",
            "  ax1 = sns.distplot(df[['price']], hist = False, color = 'r', label = 'Actual Value')\n",
            "<ipython-input-24-3ea8b8699548>:2: UserWarning: \n",
            "\n",
            "`distplot` is a deprecated function and will be removed in seaborn v0.14.0.\n",
            "\n",
            "Please adapt your code to use either `displot` (a figure-level function with\n",
            "similar flexibility) or `kdeplot` (an axes-level function for kernel density plots).\n",
            "\n",
            "For a guide to updating your code to use the new functions, please see\n",
            "https://gist.github.com/mwaskom/de44147ed2974457ad6372750bbe5751\n",
            "\n",
            "  sns.distplot(predict2, hist = False, color = 'b', label = 'Fitted Value', ax = ax1)\n"
          ]
        },
        {
          "output_type": "execute_result",
          "data": {
            "text/plain": [
              "<Axes: ylabel='Density'>"
            ]
          },
          "metadata": {},
          "execution_count": 24
        },
        {
          "output_type": "display_data",
          "data": {
            "text/plain": [
              "<Figure size 640x480 with 1 Axes>"
            ],
            "image/png": "[encoded data removed]"
          },
          "metadata": {}
        }
      ]
    },
    {
      "cell_type": "code",
      "source": [
        "from sklearn.preprocessing import StandardScaler\n",
        "from sklearn.preprocessing import PolynomialFeatures\n",
        "from sklearn.linear_model import LinearRegression\n",
        "from sklearn.pipeline import Pipeline\n",
        "from sklearn.model_selection import cross_val_score\n",
        "from sklearn.model_selection import cross_val_predict\n",
        "order = [2,3,4,5,6,7,8,9,10]\n",
        "Rsquare = []\n",
        "for n in order:\n",
        "  Input = [('scale', StandardScaler()), ('features', PolynomialFeatures(n)), ('regression', LinearRegression())]\n",
        "  pipe = Pipeline(Input)\n",
        "  score = cross_val_score(pipe, df[['sqft_above']], df[['price']], cv = 3)\n",
        "  Rsquare.append(score)\n",
        "Rsquare\n",
        "#Tìm bậc đa thức phù hợp bằng R^2"
      ],
      "metadata": {
        "colab": {
          "base_uri": "https://localhost:8080/"
        },
        "id": "1J_xC1HRNGcu",
        "outputId": "d9573e9e-6f36-477b-e966-13cf71074207"
      },
      "execution_count": 25,
      "outputs": [
        {
          "output_type": "execute_result",
          "data": {
            "text/plain": [
              "[array([0.41039456, 0.39517245, 0.38840796]),\n",
              " array([0.41071092, 0.3918671 , 0.3870468 ]),\n",
              " array([0.41441533, 0.39204282, 0.38804904]),\n",
              " array([0.41180321, 0.39428397, 0.37694467]),\n",
              " array([0.41140014, 0.34292149, 0.36793731]),\n",
              " array([0.40180753, 0.08986093, 0.3753219 ]),\n",
              " array([ 0.39480022, -3.01914395,  0.38063692]),\n",
              " array([0.39454484, 0.19124028, 0.38218413]),\n",
              " array([  0.39687512, -51.05471704,   0.3843126 ])]"
            ]
          },
          "metadata": {},
          "execution_count": 25
        }
      ]
    },
    {
      "cell_type": "code",
      "source": [
        "Input = [('scale', StandardScaler()), ('features', PolynomialFeatures(4)), ('regression', LinearRegression())]\n",
        "pipe = Pipeline(Input)\n",
        "predict3 = cross_val_predict(pipe, df[['sqft_above']], df[['price']], cv = 3)\n",
        "predict3\n",
        "#Tính biến dự đoán"
      ],
      "metadata": {
        "colab": {
          "base_uri": "https://localhost:8080/"
        },
        "id": "0ROqZs_ZNSNT",
        "outputId": "23480a81-bc47-47b8-8747-9818b8d92d63"
      },
      "execution_count": 26,
      "outputs": [
        {
          "output_type": "execute_result",
          "data": {
            "text/plain": [
              "array([[402334.56962002],\n",
              "       [590762.64761891],\n",
              "       [328703.79071956],\n",
              "       ...,\n",
              "       [368918.01388925],\n",
              "       [484685.42327837],\n",
              "       [368918.01388925]])"
            ]
          },
          "metadata": {},
          "execution_count": 26
        }
      ]
    },
    {
      "cell_type": "code",
      "source": [
        "MSE_sqft_above = mean_squared_error(df[['price']], predict3)\n",
        "MSE_sqft_above\n",
        "#Tính MSE"
      ],
      "metadata": {
        "colab": {
          "base_uri": "https://localhost:8080/"
        },
        "id": "dHzBhWs7G_4F",
        "outputId": "fd67d98a-2995-48cd-bad9-c33f4eb89e11"
      },
      "execution_count": 27,
      "outputs": [
        {
          "output_type": "execute_result",
          "data": {
            "text/plain": [
              "80995989224.9909"
            ]
          },
          "metadata": {},
          "execution_count": 27
        }
      ]
    },
    {
      "cell_type": "code",
      "source": [
        "ax1 = sns.distplot(df[['price']], hist = False, color = 'r', label = 'Actual Value')\n",
        "sns.distplot(predict3, hist = False, color = 'b', label = 'Fitted Value', ax = ax1)\n",
        "#Vẽ biểu đồ phân bố của đa thức bậc 4"
      ],
      "metadata": {
        "colab": {
          "base_uri": "https://localhost:8080/",
          "height": 862
        },
        "id": "zbdZxjjcNrij",
        "outputId": "ad4bf2e3-8954-444c-be3e-6fbab7123256"
      },
      "execution_count": 28,
      "outputs": [
        {
          "output_type": "stream",
          "name": "stderr",
          "text": [
            "<ipython-input-28-7246f05fbe77>:1: UserWarning: \n",
            "\n",
            "`distplot` is a deprecated function and will be removed in seaborn v0.14.0.\n",
            "\n",
            "Please adapt your code to use either `displot` (a figure-level function with\n",
            "similar flexibility) or `kdeplot` (an axes-level function for kernel density plots).\n",
            "\n",
            "For a guide to updating your code to use the new functions, please see\n",
            "https://gist.github.com/mwaskom/de44147ed2974457ad6372750bbe5751\n",
            "\n",
            "  ax1 = sns.distplot(df[['price']], hist = False, color = 'r', label = 'Actual Value')\n",
            "<ipython-input-28-7246f05fbe77>:2: UserWarning: \n",
            "\n",
            "`distplot` is a deprecated function and will be removed in seaborn v0.14.0.\n",
            "\n",
            "Please adapt your code to use either `displot` (a figure-level function with\n",
            "similar flexibility) or `kdeplot` (an axes-level function for kernel density plots).\n",
            "\n",
            "For a guide to updating your code to use the new functions, please see\n",
            "https://gist.github.com/mwaskom/de44147ed2974457ad6372750bbe5751\n",
            "\n",
            "  sns.distplot(predict3, hist = False, color = 'b', label = 'Fitted Value', ax = ax1)\n"
          ]
        },
        {
          "output_type": "execute_result",
          "data": {
            "text/plain": [
              "<Axes: ylabel='Density'>"
            ]
          },
          "metadata": {},
          "execution_count": 28
        },
        {
          "output_type": "display_data",
          "data": {
            "text/plain": [
              "<Figure size 640x480 with 1 Axes>"
            ],
            "image/png": "[encoded data removed]"
          },
          "metadata": {}
        }
      ]
    },
    {
      "cell_type": "code",
      "source": [
        "from sklearn.linear_model import Ridge\n",
        "Rsquare = []\n",
        "alpha = [0.1, 1, 10]\n",
        "for n in alpha:\n",
        "  Input = [('scale', StandardScaler()), ('features', PolynomialFeatures(degree = 3)), ('ridge', Ridge(alpha = n))]\n",
        "  pipe = Pipeline(Input)\n",
        "  score = cross_val_score(pipe, df[['sqft_living']], df[['price']], cv = 3)\n",
        "  Rsquare.append(score)\n",
        "Rsquare\n",
        "#Tìm hệ số alpha phù hợp cho mô hình hồi quy đa thức bậc 3"
      ],
      "metadata": {
        "colab": {
          "base_uri": "https://localhost:8080/"
        },
        "id": "aM9LVE06O3Bu",
        "outputId": "37397e3e-5355-41b5-feda-b876be62bea9"
      },
      "execution_count": 29,
      "outputs": [
        {
          "output_type": "execute_result",
          "data": {
            "text/plain": [
              "[array([0.54616152, 0.49859766, 0.52551897]),\n",
              " array([0.54616202, 0.49857874, 0.52551983]),\n",
              " array([0.54616688, 0.49838926, 0.52552825])]"
            ]
          },
          "metadata": {},
          "execution_count": 29
        }
      ]
    },
    {
      "cell_type": "code",
      "source": [
        "Yhat = []\n",
        "Input = [('scale', StandardScaler()), ('features', PolynomialFeatures(degree = 3)), ('ridge', Ridge(alpha = 10))]\n",
        "pipe = Pipeline(Input)\n",
        "predict = cross_val_predict(pipe, df[['sqft_living']], df[['price']], cv = 3)\n",
        "Yhat.append(predict)\n",
        "Yhat\n",
        "#Tính biến dự đoán"
      ],
      "metadata": {
        "colab": {
          "base_uri": "https://localhost:8080/"
        },
        "id": "kXdzc5rbRe36",
        "outputId": "9013d585-5d36-4519-d0ab-6d0ad94372e2"
      },
      "execution_count": 30,
      "outputs": [
        {
          "output_type": "execute_result",
          "data": {
            "text/plain": [
              "[array([[344847.22342885],\n",
              "        [615976.64338901],\n",
              "        [316669.59623229],\n",
              "        ...,\n",
              "        [332738.36020025],\n",
              "        [398330.27245305],\n",
              "        [332738.36020025]])]"
            ]
          },
          "metadata": {},
          "execution_count": 30
        }
      ]
    },
    {
      "cell_type": "code",
      "source": [
        "ax1 = sns.distplot(df[['price']], hist = False, color = 'r', label = 'Actual Value')\n",
        "sns.distplot(Yhat, hist = False, color = 'b', label = 'Fitted Value', ax = ax1)\n",
        "#Vẽ biểu đồ phân bố của đa thức bậc 3"
      ],
      "metadata": {
        "colab": {
          "base_uri": "https://localhost:8080/",
          "height": 862
        },
        "id": "l-SYOXFRSYxQ",
        "outputId": "fc690a71-8168-407d-d727-b50f1875ba94"
      },
      "execution_count": 32,
      "outputs": [
        {
          "output_type": "stream",
          "name": "stderr",
          "text": [
            "<ipython-input-32-744f0c832301>:1: UserWarning: \n",
            "\n",
            "`distplot` is a deprecated function and will be removed in seaborn v0.14.0.\n",
            "\n",
            "Please adapt your code to use either `displot` (a figure-level function with\n",
            "similar flexibility) or `kdeplot` (an axes-level function for kernel density plots).\n",
            "\n",
            "For a guide to updating your code to use the new functions, please see\n",
            "https://gist.github.com/mwaskom/de44147ed2974457ad6372750bbe5751\n",
            "\n",
            "  ax1 = sns.distplot(df[['price']], hist = False, color = 'r', label = 'Actual Value')\n",
            "<ipython-input-32-744f0c832301>:2: UserWarning: \n",
            "\n",
            "`distplot` is a deprecated function and will be removed in seaborn v0.14.0.\n",
            "\n",
            "Please adapt your code to use either `displot` (a figure-level function with\n",
            "similar flexibility) or `kdeplot` (an axes-level function for kernel density plots).\n",
            "\n",
            "For a guide to updating your code to use the new functions, please see\n",
            "https://gist.github.com/mwaskom/de44147ed2974457ad6372750bbe5751\n",
            "\n",
            "  sns.distplot(Yhat, hist = False, color = 'b', label = 'Fitted Value', ax = ax1)\n"
          ]
        },
        {
          "output_type": "execute_result",
          "data": {
            "text/plain": [
              "<Axes: ylabel='Density'>"
            ]
          },
          "metadata": {},
          "execution_count": 32
        },
        {
          "output_type": "display_data",
          "data": {
            "text/plain": [
              "<Figure size 640x480 with 1 Axes>"
            ],
            "image/png": "[encoded data removed]"
          },
          "metadata": {}
        }
      ]
    }
  ]
}