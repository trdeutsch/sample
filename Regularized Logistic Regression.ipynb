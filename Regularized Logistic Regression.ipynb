{
 "cells": [
  {
   "cell_type": "code",
   "execution_count": 1,
   "metadata": {},
   "outputs": [],
   "source": [
    "import numpy as np"
   ]
  },
  {
   "cell_type": "code",
   "execution_count": 2,
   "metadata": {},
   "outputs": [],
   "source": [
    "x_train = np.array([[0.5, 1.5], [1,1], [1.5, 0.5], [3, 0.5], [2, 2], [1, 2.5]])\n",
    "y_train = np.array([0, 0, 0, 1, 1, 1])\n",
    "b_init = 1.\n",
    "w_init = np.array([2., 3.])\n",
    "lambda_ = 0.7\n",
    "learning_rate = 0.001"
   ]
  },
  {
   "cell_type": "code",
   "execution_count": 3,
   "metadata": {},
   "outputs": [],
   "source": [
    "def reg_cost (w, b, x, y, lambda_):\n",
    "    m = x.shape[0]\n",
    "    n = x.shape[1]\n",
    "    cost = 0\n",
    "    reg_cost = 0\n",
    "    \n",
    "    for i in range(m):\n",
    "        z = np.dot(w, x[i]) + b\n",
    "        f_wb = 1 / (1 + np.exp(-z))\n",
    "        cost += -y[i] * np.log(f_wb) - (1 - y[i]) * np.log(1 - f_wb)\n",
    "    cost = cost / m\n",
    "    \n",
    "    for j in range(n):\n",
    "        reg_cost += (w[j] ** 2)\n",
    "    reg_cost = (lambda_ / (2 * m)) * reg_cost\n",
    "    \n",
    "    total_cost = cost + reg_cost\n",
    "    return total_cost"
   ]
  },
  {
   "cell_type": "code",
   "execution_count": 4,
   "metadata": {},
   "outputs": [
    {
     "data": {
      "text/plain": [
       "3.7597173539786306"
      ]
     },
     "execution_count": 4,
     "metadata": {},
     "output_type": "execute_result"
    }
   ],
   "source": [
    "reg_cost(w_init, b_init, x_train, y_train, lambda_)"
   ]
  },
  {
   "cell_type": "code",
   "execution_count": 5,
   "metadata": {},
   "outputs": [],
   "source": [
    "def reg_gardient_descent (w, b, x, y, lambda_, learning_rate):\n",
    "    m = x.shape[0]\n",
    "    n = x.shape[1]\n",
    "    dw = np.zeros((n, ))\n",
    "    db = 0\n",
    "    \n",
    "    for i in range(m):\n",
    "        z = np.dot(w, x[i]) + b\n",
    "        f_wb = 1 / (1 + np.exp(-z))\n",
    "        err = (f_wb - y[i])\n",
    "        for j in range(n):\n",
    "            dw[j] = (dw[j] + err * x[i, j]) / m\n",
    "        db += err\n",
    "    db = db / m\n",
    "    \n",
    "    for j in range(n):\n",
    "        dw[j] = dw[j] + (lambda_ / m) * w[j]\n",
    "        \n",
    "    w = w - learning_rate * dw\n",
    "    b = b - learning_rate * db\n",
    "    \n",
    "    for i in range(m):\n",
    "       print(f\"prediction: {np.dot(x_train[i], w) + b:0.2f}, target value: {y_train[i]}\")"
   ]
  },
  {
   "cell_type": "code",
   "execution_count": 6,
   "metadata": {},
   "outputs": [
    {
     "name": "stdout",
     "output_type": "stream",
     "text": [
      "prediction: 6.50, target value: 0\n",
      "prediction: 6.00, target value: 0\n",
      "prediction: 5.50, target value: 0\n",
      "prediction: 8.50, target value: 1\n",
      "prediction: 11.00, target value: 1\n",
      "prediction: 10.50, target value: 1\n"
     ]
    }
   ],
   "source": [
    "reg_gardient_descent(w_init, b_init, x_train, y_train, lambda_, learning_rate)"
   ]
  },
  {
   "cell_type": "code",
   "execution_count": null,
   "metadata": {},
   "outputs": [],
   "source": []
  }
 ],
 "metadata": {
  "kernelspec": {
   "display_name": "base",
   "language": "python",
   "name": "python3"
  },
  "language_info": {
   "codemirror_mode": {
    "name": "ipython",
    "version": 3
   },
   "file_extension": ".py",
   "mimetype": "text/x-python",
   "name": "python",
   "nbconvert_exporter": "python",
   "pygments_lexer": "ipython3",
   "version": "3.10.9"
  },
  "orig_nbformat": 4
 },
 "nbformat": 4,
 "nbformat_minor": 2
}
